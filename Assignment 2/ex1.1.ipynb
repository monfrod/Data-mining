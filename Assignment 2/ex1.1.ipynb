{
 "cells": [
  {
   "cell_type": "code",
   "execution_count": 2,
   "id": "3dc4333c",
   "metadata": {},
   "outputs": [
    {
     "name": "stdout",
     "output_type": "stream",
     "text": [
      "Выбранные признаки: ['petal length (cm)' 'petal width (cm)']\n"
     ]
    }
   ],
   "source": [
    "#Lalazov Yunus\n",
    "from sklearn.datasets import load_iris\n",
    "from sklearn.feature_selection import SelectKBest, chi2\n",
    "import pandas as pd\n",
    "\n",
    "data = load_iris()\n",
    "x = data.data\n",
    "y = data.target\n",
    "\n",
    "selector = SelectKBest(score_func=chi2, k=2)\n",
    "x_new = selector.fit_transform(x, y)\n",
    "\n",
    "mask = selector.get_support()\n",
    "selected_features = pd.DataFrame(data.feature_names)[mask]\n",
    "print(\"Выбранные признаки:\", selected_features.values.flatten())\n"
   ]
  },
  {
   "cell_type": "code",
   "execution_count": 4,
   "id": "88650308",
   "metadata": {},
   "outputs": [
    {
     "name": "stdout",
     "output_type": "stream",
     "text": [
      "Выбранные признаки: ['petal length (cm)' 'petal width (cm)']\n"
     ]
    }
   ],
   "source": [
    "print(\"Выбранные признаки:\", selected_features.values.flatten())"
   ]
  },
  {
   "cell_type": "code",
   "execution_count": 3,
   "id": "c6d3b502",
   "metadata": {},
   "outputs": [
    {
     "name": "stdout",
     "output_type": "stream",
     "text": [
      "Выбранные признаки: ['petal length (cm)' 'petal width (cm)']\n"
     ]
    }
   ],
   "source": [
    "print(\"Выбранные признаки:\", selected_features.values.flatten())"
   ]
  },
  {
   "cell_type": "code",
   "execution_count": null,
   "id": "1fb81803",
   "metadata": {},
   "outputs": [],
   "source": []
  }
 ],
 "metadata": {
  "kernelspec": {
   "display_name": "Python 3 (ipykernel)",
   "language": "python",
   "name": "python3"
  },
  "language_info": {
   "codemirror_mode": {
    "name": "ipython",
    "version": 3
   },
   "file_extension": ".py",
   "mimetype": "text/x-python",
   "name": "python",
   "nbconvert_exporter": "python",
   "pygments_lexer": "ipython3",
   "version": "3.10.9"
  }
 },
 "nbformat": 4,
 "nbformat_minor": 5
}
