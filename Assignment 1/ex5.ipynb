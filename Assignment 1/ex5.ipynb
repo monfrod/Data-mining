{
 "cells": [
  {
   "cell_type": "code",
   "execution_count": 3,
   "id": "a62c8409",
   "metadata": {},
   "outputs": [
    {
     "name": "stdout",
     "output_type": "stream",
     "text": [
      "Дубликаты удалены. Осталось строк: 800\n",
      "Количество строк после очистки (Z-score): 0\n",
      "Количество строк после очистки (IQR): 382\n"
     ]
    }
   ],
   "source": [
    "#Lalazov Yunus\n",
    "import pandas as pd\n",
    "import numpy as np\n",
    "from scipy import stats\n",
    "\n",
    "df = pd.read_csv('earthquakes.csv')\n",
    "\n",
    "df_cleaned = df.drop_duplicates()\n",
    "print(f'Дубликаты удалены. Осталось строк: {df_cleaned.shape[0]}')\n",
    "\n",
    "numeric_cols = df_cleaned.select_dtypes(include=[np.number]).columns  \n",
    "z_scores = np.abs(stats.zscore(df_cleaned[numeric_cols]))\n",
    "df_cleaned_z = df_cleaned[(z_scores < 3).all(axis=1)]  \n",
    "\n",
    "\n",
    "Q1 = df_cleaned[numeric_cols].quantile(0.25)\n",
    "Q3 = df_cleaned[numeric_cols].quantile(0.75)\n",
    "IQR = Q3 - Q1\n",
    "df_cleaned_iqr = df_cleaned[~((df_cleaned[numeric_cols] < (Q1 - 1.5 * IQR)) | (df_cleaned[numeric_cols] > (Q3 + 1.5 * IQR))).any(axis=1)]\n",
    "\n",
    "\n",
    "\n",
    "\n",
    "if 'country' in df_cleaned.columns:\n",
    "    df_cleaned.loc[:, 'country'] = df_cleaned['country'].str.lower()  \n",
    "\n",
    "\n",
    "if 'country' in df_cleaned.columns:\n",
    "    df_cleaned.loc[:, 'country'] = df_cleaned['country'].replace({'usa': 'united states', 'united states of america': 'united states'})\n",
    "\n",
    "\n",
    "print(f'Количество строк после очистки (Z-score): {df_cleaned_z.shape[0]}')\n",
    "print(f'Количество строк после очистки (IQR): {df_cleaned_iqr.shape[0]}')\n",
    "\n",
    "\n",
    "df_cleaned_z.to_csv('cleaned_earthquakes_z.csv', index=False)\n",
    "df_cleaned_iqr.to_csv('cleaned_earthquakes_iqr.csv', index=False)"
   ]
  },
  {
   "cell_type": "code",
   "execution_count": null,
   "id": "7ee22f72",
   "metadata": {},
   "outputs": [],
   "source": []
  }
 ],
 "metadata": {
  "kernelspec": {
   "display_name": "Python 3 (ipykernel)",
   "language": "python",
   "name": "python3"
  },
  "language_info": {
   "codemirror_mode": {
    "name": "ipython",
    "version": 3
   },
   "file_extension": ".py",
   "mimetype": "text/x-python",
   "name": "python",
   "nbconvert_exporter": "python",
   "pygments_lexer": "ipython3",
   "version": "3.10.9"
  }
 },
 "nbformat": 4,
 "nbformat_minor": 5
}
