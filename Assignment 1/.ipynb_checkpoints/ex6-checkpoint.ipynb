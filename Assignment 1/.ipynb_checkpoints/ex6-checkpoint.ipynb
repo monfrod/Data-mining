{
 "cells": [
  {
   "cell_type": "code",
   "execution_count": 4,
   "id": "c4ad4af1",
   "metadata": {},
   "outputs": [
    {
     "name": "stdout",
     "output_type": "stream",
     "text": [
      "Index(['id', 'magnitude', 'type', 'title', 'date', 'time', 'updated', 'url',\n",
      "       'detailUrl', 'felt', 'cdi', 'mmi', 'alert', 'status', 'tsunami', 'sig',\n",
      "       'net', 'code', 'ids', 'sources', 'types', 'nst', 'dmin', 'rms', 'gap',\n",
      "       'magType', 'geometryType', 'depth', 'latitude', 'longitude', 'place',\n",
      "       'distanceKM', 'placeOnly', 'location', 'continent', 'country',\n",
      "       'subnational', 'city', 'locality', 'postcode', 'what3words', 'timezone',\n",
      "       'locationDetails'],\n",
      "      dtype='object')\n",
      "Размер обучающего набора: 909\n",
      "Размер тестового набора: 228\n"
     ]
    }
   ],
   "source": [
    "import pandas as pd\n",
    "from sklearn.model_selection import train_test_split\n",
    "\n",
    "df = pd.read_csv('earthquakes.csv')\n",
    "\n",
    "print(df.columns)\n",
    "\n",
    "X = df.drop(columns=['magnitude'])  \n",
    "y = df['magnitude']  \n",
    "\n",
    "\n",
    "X_train, X_test, y_train, y_test = train_test_split(X, y, test_size=0.2, random_state=42)\n",
    "\n",
    "\n",
    "print(f'Размер обучающего набора: {X_train.shape[0]}')\n",
    "print(f'Размер тестового набора: {X_test.shape[0]}')"
   ]
  },
  {
   "cell_type": "code",
   "execution_count": null,
   "id": "414afede",
   "metadata": {},
   "outputs": [],
   "source": []
  }
 ],
 "metadata": {
  "kernelspec": {
   "display_name": "Python 3 (ipykernel)",
   "language": "python",
   "name": "python3"
  },
  "language_info": {
   "codemirror_mode": {
    "name": "ipython",
    "version": 3
   },
   "file_extension": ".py",
   "mimetype": "text/x-python",
   "name": "python",
   "nbconvert_exporter": "python",
   "pygments_lexer": "ipython3",
   "version": "3.10.9"
  }
 },
 "nbformat": 4,
 "nbformat_minor": 5
}
