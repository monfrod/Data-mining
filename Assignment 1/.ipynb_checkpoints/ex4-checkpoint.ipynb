{
 "cells": [
  {
   "cell_type": "code",
   "execution_count": 1,
   "id": "483a5b7e",
   "metadata": {},
   "outputs": [
    {
     "name": "stdout",
     "output_type": "stream",
     "text": [
      "            lat_long  magnitude_squared  year  month  day time_of_day\n",
      "0  32.3984, -102.044              23.04  2024      9   17       night\n",
      "1   32.414, -102.057              26.01  2024      9   17       night\n",
      "2  34.0678, -118.807              13.69  2024      9   16       night\n",
      "3    31.647, -104.45              15.21  2024      9   14       night\n",
      "4  31.6323, -104.473              16.81  2024      9   14       night\n"
     ]
    }
   ],
   "source": [
    "import pandas as pd\n",
    "import numpy as np\n",
    "\n",
    "df = pd.read_csv('earthquakes.csv')\n",
    "\n",
    "df['date'] = pd.to_datetime(df['date'], errors='coerce')\n",
    "\n",
    "df['lat_long'] = df['latitude'].astype(str) + ', ' + df['longitude'].astype(str)\n",
    "\n",
    "df['magnitude_squared'] = df['magnitude'] ** 2\n",
    "\n",
    "df['year'] = df['date'].dt.year\n",
    "df['month'] = df['date'].dt.month\n",
    "df['day'] = df['date'].dt.day\n",
    "\n",
    "df['time'] = pd.to_datetime(df['time'], errors='coerce')\n",
    "df['hour'] = df['time'].dt.hour\n",
    "\n",
    "def assign_time_of_day(hour):\n",
    "    if 5 <= hour < 12:\n",
    "        return 'morning'\n",
    "    elif 12 <= hour < 17:\n",
    "        return 'afternoon'\n",
    "    elif 17 <= hour < 21:\n",
    "        return 'evening'\n",
    "    else:\n",
    "        return 'night'\n",
    "\n",
    "df['time_of_day'] = df['hour'].apply(assign_time_of_day)\n",
    "\n",
    "print(df[['lat_long', 'magnitude_squared', 'year', 'month', 'day', 'time_of_day']].head())\n",
    "\n",
    "df.to_csv('earthquakes_with_new_features.csv', index=False)"
   ]
  },
  {
   "cell_type": "code",
   "execution_count": null,
   "id": "cdbdf188",
   "metadata": {},
   "outputs": [],
   "source": []
  }
 ],
 "metadata": {
  "kernelspec": {
   "display_name": "Python 3 (ipykernel)",
   "language": "python",
   "name": "python3"
  },
  "language_info": {
   "codemirror_mode": {
    "name": "ipython",
    "version": 3
   },
   "file_extension": ".py",
   "mimetype": "text/x-python",
   "name": "python",
   "nbconvert_exporter": "python",
   "pygments_lexer": "ipython3",
   "version": "3.10.9"
  }
 },
 "nbformat": 4,
 "nbformat_minor": 5
}
